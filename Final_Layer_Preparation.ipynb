{
  "nbformat": 4,
  "nbformat_minor": 0,
  "metadata": {
    "colab": {
      "provenance": []
    },
    "kernelspec": {
      "name": "python3",
      "display_name": "Python 3"
    },
    "language_info": {
      "name": "python"
    }
  },
  "cells": [
    {
      "cell_type": "code",
      "execution_count": null,
      "metadata": {
        "colab": {
          "base_uri": "https://localhost:8080/"
        },
        "id": "eap3iynOkgry",
        "outputId": "453fa0ba-ce4b-43c4-e5b0-dc0477b6532d"
      },
      "outputs": [
        {
          "output_type": "stream",
          "name": "stdout",
          "text": [
            "Requirement already satisfied: geopandas in /usr/local/lib/python3.11/dist-packages (1.0.1)\n",
            "Requirement already satisfied: rasterio in /usr/local/lib/python3.11/dist-packages (1.4.3)\n",
            "Requirement already satisfied: numpy>=1.22 in /usr/local/lib/python3.11/dist-packages (from geopandas) (2.0.2)\n",
            "Requirement already satisfied: pyogrio>=0.7.2 in /usr/local/lib/python3.11/dist-packages (from geopandas) (0.10.0)\n",
            "Requirement already satisfied: packaging in /usr/local/lib/python3.11/dist-packages (from geopandas) (24.2)\n",
            "Requirement already satisfied: pandas>=1.4.0 in /usr/local/lib/python3.11/dist-packages (from geopandas) (2.2.2)\n",
            "Requirement already satisfied: pyproj>=3.3.0 in /usr/local/lib/python3.11/dist-packages (from geopandas) (3.7.1)\n",
            "Requirement already satisfied: shapely>=2.0.0 in /usr/local/lib/python3.11/dist-packages (from geopandas) (2.1.0)\n",
            "Requirement already satisfied: affine in /usr/local/lib/python3.11/dist-packages (from rasterio) (2.4.0)\n",
            "Requirement already satisfied: attrs in /usr/local/lib/python3.11/dist-packages (from rasterio) (25.3.0)\n",
            "Requirement already satisfied: certifi in /usr/local/lib/python3.11/dist-packages (from rasterio) (2025.4.26)\n",
            "Requirement already satisfied: click>=4.0 in /usr/local/lib/python3.11/dist-packages (from rasterio) (8.1.8)\n",
            "Requirement already satisfied: cligj>=0.5 in /usr/local/lib/python3.11/dist-packages (from rasterio) (0.7.2)\n",
            "Requirement already satisfied: click-plugins in /usr/local/lib/python3.11/dist-packages (from rasterio) (1.1.1)\n",
            "Requirement already satisfied: pyparsing in /usr/local/lib/python3.11/dist-packages (from rasterio) (3.2.3)\n",
            "Requirement already satisfied: python-dateutil>=2.8.2 in /usr/local/lib/python3.11/dist-packages (from pandas>=1.4.0->geopandas) (2.9.0.post0)\n",
            "Requirement already satisfied: pytz>=2020.1 in /usr/local/lib/python3.11/dist-packages (from pandas>=1.4.0->geopandas) (2025.2)\n",
            "Requirement already satisfied: tzdata>=2022.7 in /usr/local/lib/python3.11/dist-packages (from pandas>=1.4.0->geopandas) (2025.2)\n",
            "Requirement already satisfied: six>=1.5 in /usr/local/lib/python3.11/dist-packages (from python-dateutil>=2.8.2->pandas>=1.4.0->geopandas) (1.17.0)\n"
          ]
        }
      ],
      "source": [
        "pip install geopandas rasterio\n"
      ]
    },
    {
      "cell_type": "code",
      "source": [
        "import rasterio\n",
        "import numpy as np\n"
      ],
      "metadata": {
        "id": "gmZubSGOk0yI"
      },
      "execution_count": null,
      "outputs": []
    },
    {
      "cell_type": "code",
      "source": [
        "input_path = \"/content/lithology_30m_normalized.tif\"\n",
        "\n",
        "with rasterio.open(input_path) as src:\n",
        "    data = src.read(1)  # Read the first band\n",
        "    profile = src.profile.copy()  # Store metadata for later use\n",
        "    nodata = src.nodata  # Get the NoData value if present\n"
      ],
      "metadata": {
        "id": "vX8fRgEwlDFh"
      },
      "execution_count": null,
      "outputs": []
    },
    {
      "cell_type": "code",
      "source": [
        "# Create a mask for NoData values\n",
        "if nodata is not None:\n",
        "    mask = (data == nodata)\n",
        "    data = np.where(mask, np.nan, data)  # Replace NoData with NaN for safe calculations\n",
        "else:\n",
        "    mask = np.isnan(data)  # Fallback if nodata is not set\n"
      ],
      "metadata": {
        "id": "NliTaErelG4f"
      },
      "execution_count": null,
      "outputs": []
    },
    {
      "cell_type": "code",
      "source": [
        "# Calculate min and max ignoring NaN\n",
        "data_min = np.nanmin(data)\n",
        "data_max = np.nanmax(data)\n",
        "\n",
        "# Apply Min-Max normalization\n",
        "data_norm = (data - data_min) / (data_max - data_min)\n",
        "data_norm = np.clip(data_norm, 0, 1)\n"
      ],
      "metadata": {
        "id": "TfM0JwFglKMm"
      },
      "execution_count": null,
      "outputs": []
    },
    {
      "cell_type": "code",
      "source": [
        "nodata_replacement = 0  # You can change this if needed\n",
        "data_norm[np.isnan(data_norm)] = nodata_replacement\n"
      ],
      "metadata": {
        "id": "aXEesycPlMWA"
      },
      "execution_count": null,
      "outputs": []
    },
    {
      "cell_type": "code",
      "source": [
        "from rasterio.crs import CRS\n",
        "\n",
        "profile.update({\n",
        "    \"dtype\": \"float32\",\n",
        "    \"nodata\": nodata_replacement,\n",
        "    \"crs\": CRS.from_epsg(32643),  # WGS 84 / UTM Zone 43N\n",
        "    \"transform\": src.transform,   # Keep original transform if already in same resolution\n",
        "    \"count\": 1\n",
        "})\n"
      ],
      "metadata": {
        "id": "gSXbAwP_mu7X"
      },
      "execution_count": null,
      "outputs": []
    },
    {
      "cell_type": "code",
      "source": [],
      "metadata": {
        "id": "MaHlR1IonMGo"
      },
      "execution_count": null,
      "outputs": []
    },
    {
      "cell_type": "code",
      "source": [
        "output_path = \"normalized.tif\"\n",
        "profile.update(dtype='float32', nodata=nodata_replacement)\n",
        "\n",
        "with rasterio.open(output_path, 'w', **profile) as dst:\n",
        "    dst.write(data_norm.astype('float32'), 1)\n",
        "\n",
        "print(f\"Saved normalized raster to: {output_path}\")\n"
      ],
      "metadata": {
        "colab": {
          "base_uri": "https://localhost:8080/"
        },
        "id": "96FURNwzlPKw",
        "outputId": "2ccc503b-de06-4f0e-9cf2-bcb2b40b35d3"
      },
      "execution_count": null,
      "outputs": [
        {
          "output_type": "stream",
          "name": "stdout",
          "text": [
            "Saved normalized raster to: normalized.tif\n"
          ]
        }
      ]
    },
    {
      "cell_type": "code",
      "source": [
        "import rasterio\n",
        "from rasterio.warp import reproject, Resampling\n",
        "from rasterio.enums import Resampling as ResampleMethod\n",
        "from rasterio.crs import CRS\n",
        "from rasterio.transform import from_origin\n",
        "import numpy as np\n",
        "import os\n",
        "\n",
        "input_folder = \"input_rasters\"\n",
        "output_folder = \"normalized_rasters\"\n",
        "os.makedirs(output_folder, exist_ok=True)\n",
        "\n",
        "target_crs = CRS.from_epsg(32643)  # WGS 84 / UTM Zone 43N\n",
        "target_resolution = 30\n",
        "nodata_replacement = 0\n",
        "\n",
        "for filename in os.listdir(input_folder):\n",
        "    if filename.lower().endswith(\".tif\"):\n",
        "        input_path = os.path.join(input_folder, filename)\n",
        "        output_path = os.path.join(output_folder, filename.replace(\".tif\", \"_normalized_30m.tif\"))\n",
        "\n",
        "        with rasterio.open(input_path) as src:\n",
        "            # Compute bounds in target CRS\n",
        "            dst_transform, dst_width, dst_height = rasterio.warp.calculate_default_transform(\n",
        "                src.crs, target_crs, src.width, src.height, *src.bounds\n",
        "            )\n",
        "\n",
        "            # Force 30m resolution manually\n",
        "            left, bottom, right, top = rasterio.warp.transform_bounds(\n",
        "                src.crs, target_crs, *src.bounds\n",
        "            )\n",
        "            dst_width = int((right - left) / target_resolution)\n",
        "            dst_height = int((top - bottom) / target_resolution)\n",
        "            dst_transform = from_origin(left, top, target_resolution, target_resolution)\n",
        "\n",
        "            # Prepare destination array\n",
        "            destination = np.empty((dst_height, dst_width), dtype='float32')\n",
        "\n",
        "            # Reproject with forced 30m resolution\n",
        "            reproject(\n",
        "                source=rasterio.band(src, 1),\n",
        "                destination=destination,\n",
        "                src_transform=src.transform,\n",
        "                src_crs=src.crs,\n",
        "                dst_transform=dst_transform,\n",
        "                dst_crs=target_crs,\n",
        "                resampling=ResampleMethod.bilinear\n",
        "            )\n",
        "\n",
        "            # Normalize and handle NoData\n",
        "            destination = np.where(destination == src.nodata, np.nan, destination)\n",
        "            data_min = np.nanmin(destination)\n",
        "            data_max = np.nanmax(destination)\n",
        "            normalized = (destination - data_min) / (data_max - data_min)\n",
        "            normalized = np.clip(normalized, 0, 1)\n",
        "            normalized[np.isnan(normalized)] = nodata_replacement\n",
        "\n",
        "            # Create output profile\n",
        "            profile = src.profile.copy()\n",
        "            profile.update({\n",
        "                \"crs\": target_crs,\n",
        "                \"transform\": dst_transform,\n",
        "                \"width\": dst_width,\n",
        "                \"height\": dst_height,\n",
        "                \"dtype\": \"float32\",\n",
        "                \"nodata\": nodata_replacement,\n",
        "                \"count\": 1\n",
        "            })\n",
        "\n",
        "            with rasterio.open(output_path, 'w', **profile) as dst:\n",
        "                dst.write(normalized, 1)\n",
        "\n",
        "            print(f\"✔ Saved normalized 30m raster: {output_path}\")\n"
      ],
      "metadata": {
        "colab": {
          "base_uri": "https://localhost:8080/"
        },
        "id": "8NPTgXLGnMxI",
        "outputId": "aadf3533-e3da-4c06-c8d4-380ee13935d9"
      },
      "execution_count": null,
      "outputs": [
        {
          "output_type": "stream",
          "name": "stderr",
          "text": [
            "<ipython-input-16-6a9330dafc78>:54: RuntimeWarning: invalid value encountered in subtract\n",
            "  normalized = (destination - data_min) / (data_max - data_min)\n",
            "<ipython-input-16-6a9330dafc78>:54: RuntimeWarning: invalid value encountered in divide\n",
            "  normalized = (destination - data_min) / (data_max - data_min)\n"
          ]
        },
        {
          "output_type": "stream",
          "name": "stdout",
          "text": [
            "✔ Saved normalized 30m raster: normalized_rasters/second_vertical_derivative_magnetic_2_normalized_30m.tif\n"
          ]
        },
        {
          "output_type": "stream",
          "name": "stderr",
          "text": [
            "<ipython-input-16-6a9330dafc78>:54: RuntimeWarning: invalid value encountered in divide\n",
            "  normalized = (destination - data_min) / (data_max - data_min)\n"
          ]
        },
        {
          "output_type": "stream",
          "name": "stdout",
          "text": [
            "✔ Saved normalized 30m raster: normalized_rasters/analytic_signal_magnetic_2_normalized_30m.tif\n",
            "✔ Saved normalized 30m raster: normalized_rasters/tilt_derivative_magnetic_2_normalized_30m.tif\n"
          ]
        }
      ]
    }
  ]
}
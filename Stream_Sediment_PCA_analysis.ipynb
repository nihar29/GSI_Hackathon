{
  "nbformat": 4,
  "nbformat_minor": 0,
  "metadata": {
    "colab": {
      "provenance": []
    },
    "kernelspec": {
      "name": "python3",
      "display_name": "Python 3"
    },
    "language_info": {
      "name": "python"
    }
  },
  "cells": [
    {
      "cell_type": "code",
      "execution_count": null,
      "metadata": {
        "colab": {
          "base_uri": "https://localhost:8080/"
        },
        "id": "nxF97VxDdv6b",
        "outputId": "b6ec9a5a-e687-48ee-8f00-6af92c0dffea"
      },
      "outputs": [
        {
          "output_type": "stream",
          "name": "stdout",
          "text": [
            "Collecting rasterio\n",
            "  Downloading rasterio-1.4.3-cp311-cp311-manylinux_2_17_x86_64.manylinux2014_x86_64.whl.metadata (9.1 kB)\n",
            "Collecting affine (from rasterio)\n",
            "  Downloading affine-2.4.0-py3-none-any.whl.metadata (4.0 kB)\n",
            "Requirement already satisfied: attrs in /usr/local/lib/python3.11/dist-packages (from rasterio) (25.3.0)\n",
            "Requirement already satisfied: certifi in /usr/local/lib/python3.11/dist-packages (from rasterio) (2025.4.26)\n",
            "Requirement already satisfied: click>=4.0 in /usr/local/lib/python3.11/dist-packages (from rasterio) (8.1.8)\n",
            "Collecting cligj>=0.5 (from rasterio)\n",
            "  Downloading cligj-0.7.2-py3-none-any.whl.metadata (5.0 kB)\n",
            "Requirement already satisfied: numpy>=1.24 in /usr/local/lib/python3.11/dist-packages (from rasterio) (2.0.2)\n",
            "Collecting click-plugins (from rasterio)\n",
            "  Downloading click_plugins-1.1.1-py2.py3-none-any.whl.metadata (6.4 kB)\n",
            "Requirement already satisfied: pyparsing in /usr/local/lib/python3.11/dist-packages (from rasterio) (3.2.3)\n",
            "Downloading rasterio-1.4.3-cp311-cp311-manylinux_2_17_x86_64.manylinux2014_x86_64.whl (22.2 MB)\n",
            "\u001b[2K   \u001b[90m━━━━━━━━━━━━━━━━━━━━━━━━━━━━━━━━━━━━━━━━\u001b[0m \u001b[32m22.2/22.2 MB\u001b[0m \u001b[31m76.1 MB/s\u001b[0m eta \u001b[36m0:00:00\u001b[0m\n",
            "\u001b[?25hDownloading cligj-0.7.2-py3-none-any.whl (7.1 kB)\n",
            "Downloading affine-2.4.0-py3-none-any.whl (15 kB)\n",
            "Downloading click_plugins-1.1.1-py2.py3-none-any.whl (7.5 kB)\n",
            "Installing collected packages: cligj, click-plugins, affine, rasterio\n",
            "Successfully installed affine-2.4.0 click-plugins-1.1.1 cligj-0.7.2 rasterio-1.4.3\n",
            "Requirement already satisfied: geopandas in /usr/local/lib/python3.11/dist-packages (1.0.1)\n",
            "Requirement already satisfied: numpy>=1.22 in /usr/local/lib/python3.11/dist-packages (from geopandas) (2.0.2)\n",
            "Requirement already satisfied: pyogrio>=0.7.2 in /usr/local/lib/python3.11/dist-packages (from geopandas) (0.10.0)\n",
            "Requirement already satisfied: packaging in /usr/local/lib/python3.11/dist-packages (from geopandas) (24.2)\n",
            "Requirement already satisfied: pandas>=1.4.0 in /usr/local/lib/python3.11/dist-packages (from geopandas) (2.2.2)\n",
            "Requirement already satisfied: pyproj>=3.3.0 in /usr/local/lib/python3.11/dist-packages (from geopandas) (3.7.1)\n",
            "Requirement already satisfied: shapely>=2.0.0 in /usr/local/lib/python3.11/dist-packages (from geopandas) (2.1.0)\n",
            "Requirement already satisfied: python-dateutil>=2.8.2 in /usr/local/lib/python3.11/dist-packages (from pandas>=1.4.0->geopandas) (2.9.0.post0)\n",
            "Requirement already satisfied: pytz>=2020.1 in /usr/local/lib/python3.11/dist-packages (from pandas>=1.4.0->geopandas) (2025.2)\n",
            "Requirement already satisfied: tzdata>=2022.7 in /usr/local/lib/python3.11/dist-packages (from pandas>=1.4.0->geopandas) (2025.2)\n",
            "Requirement already satisfied: certifi in /usr/local/lib/python3.11/dist-packages (from pyogrio>=0.7.2->geopandas) (2025.4.26)\n",
            "Requirement already satisfied: six>=1.5 in /usr/local/lib/python3.11/dist-packages (from python-dateutil>=2.8.2->pandas>=1.4.0->geopandas) (1.17.0)\n",
            "Requirement already satisfied: pyproj in /usr/local/lib/python3.11/dist-packages (3.7.1)\n",
            "Requirement already satisfied: certifi in /usr/local/lib/python3.11/dist-packages (from pyproj) (2025.4.26)\n",
            "Requirement already satisfied: rasterio in /usr/local/lib/python3.11/dist-packages (1.4.3)\n",
            "Requirement already satisfied: affine in /usr/local/lib/python3.11/dist-packages (from rasterio) (2.4.0)\n",
            "Requirement already satisfied: attrs in /usr/local/lib/python3.11/dist-packages (from rasterio) (25.3.0)\n",
            "Requirement already satisfied: certifi in /usr/local/lib/python3.11/dist-packages (from rasterio) (2025.4.26)\n",
            "Requirement already satisfied: click>=4.0 in /usr/local/lib/python3.11/dist-packages (from rasterio) (8.1.8)\n",
            "Requirement already satisfied: cligj>=0.5 in /usr/local/lib/python3.11/dist-packages (from rasterio) (0.7.2)\n",
            "Requirement already satisfied: numpy>=1.24 in /usr/local/lib/python3.11/dist-packages (from rasterio) (2.0.2)\n",
            "Requirement already satisfied: click-plugins in /usr/local/lib/python3.11/dist-packages (from rasterio) (1.1.1)\n",
            "Requirement already satisfied: pyparsing in /usr/local/lib/python3.11/dist-packages (from rasterio) (3.2.3)\n",
            "Requirement already satisfied: geopandas in /usr/local/lib/python3.11/dist-packages (1.0.1)\n",
            "Requirement already satisfied: numpy>=1.22 in /usr/local/lib/python3.11/dist-packages (from geopandas) (2.0.2)\n",
            "Requirement already satisfied: pyogrio>=0.7.2 in /usr/local/lib/python3.11/dist-packages (from geopandas) (0.10.0)\n",
            "Requirement already satisfied: packaging in /usr/local/lib/python3.11/dist-packages (from geopandas) (24.2)\n",
            "Requirement already satisfied: pandas>=1.4.0 in /usr/local/lib/python3.11/dist-packages (from geopandas) (2.2.2)\n",
            "Requirement already satisfied: pyproj>=3.3.0 in /usr/local/lib/python3.11/dist-packages (from geopandas) (3.7.1)\n",
            "Requirement already satisfied: shapely>=2.0.0 in /usr/local/lib/python3.11/dist-packages (from geopandas) (2.1.0)\n",
            "Requirement already satisfied: python-dateutil>=2.8.2 in /usr/local/lib/python3.11/dist-packages (from pandas>=1.4.0->geopandas) (2.9.0.post0)\n",
            "Requirement already satisfied: pytz>=2020.1 in /usr/local/lib/python3.11/dist-packages (from pandas>=1.4.0->geopandas) (2025.2)\n",
            "Requirement already satisfied: tzdata>=2022.7 in /usr/local/lib/python3.11/dist-packages (from pandas>=1.4.0->geopandas) (2025.2)\n",
            "Requirement already satisfied: certifi in /usr/local/lib/python3.11/dist-packages (from pyogrio>=0.7.2->geopandas) (2025.4.26)\n",
            "Requirement already satisfied: six>=1.5 in /usr/local/lib/python3.11/dist-packages (from python-dateutil>=2.8.2->pandas>=1.4.0->geopandas) (1.17.0)\n",
            "Requirement already satisfied: pyproj in /usr/local/lib/python3.11/dist-packages (3.7.1)\n",
            "Requirement already satisfied: certifi in /usr/local/lib/python3.11/dist-packages (from pyproj) (2025.4.26)\n",
            "Requirement already satisfied: scikit-learn in /usr/local/lib/python3.11/dist-packages (1.6.1)\n",
            "Requirement already satisfied: numpy>=1.19.5 in /usr/local/lib/python3.11/dist-packages (from scikit-learn) (2.0.2)\n",
            "Requirement already satisfied: scipy>=1.6.0 in /usr/local/lib/python3.11/dist-packages (from scikit-learn) (1.15.2)\n",
            "Requirement already satisfied: joblib>=1.2.0 in /usr/local/lib/python3.11/dist-packages (from scikit-learn) (1.4.2)\n",
            "Requirement already satisfied: threadpoolctl>=3.1.0 in /usr/local/lib/python3.11/dist-packages (from scikit-learn) (3.6.0)\n",
            "Requirement already satisfied: scipy in /usr/local/lib/python3.11/dist-packages (1.15.2)\n",
            "Requirement already satisfied: numpy<2.5,>=1.23.5 in /usr/local/lib/python3.11/dist-packages (from scipy) (2.0.2)\n",
            "Requirement already satisfied: scikit-learn in /usr/local/lib/python3.11/dist-packages (1.6.1)\n",
            "Requirement already satisfied: numpy>=1.19.5 in /usr/local/lib/python3.11/dist-packages (from scikit-learn) (2.0.2)\n",
            "Requirement already satisfied: scipy>=1.6.0 in /usr/local/lib/python3.11/dist-packages (from scikit-learn) (1.15.2)\n",
            "Requirement already satisfied: joblib>=1.2.0 in /usr/local/lib/python3.11/dist-packages (from scikit-learn) (1.4.2)\n",
            "Requirement already satisfied: threadpoolctl>=3.1.0 in /usr/local/lib/python3.11/dist-packages (from scikit-learn) (3.6.0)\n",
            "Requirement already satisfied: scipy in /usr/local/lib/python3.11/dist-packages (1.15.2)\n",
            "Requirement already satisfied: numpy<2.5,>=1.23.5 in /usr/local/lib/python3.11/dist-packages (from scipy) (2.0.2)\n"
          ]
        }
      ],
      "source": [
        "!pip install rasterio\n",
        "!pip install geopandas\n",
        "!pip install pyproj\n",
        "!pip install rasterio\n",
        "!pip install geopandas\n",
        "!pip install pyproj\n",
        "!pip install scikit-learn\n",
        "!pip install scipy\n",
        "!pip install scikit-learn\n",
        "!pip install scipy"
      ]
    },
    {
      "cell_type": "code",
      "source": [
        "import geopandas as gpd\n",
        "\n",
        "# Load shapefile\n",
        "input_shapefile = \"/content/Stream_sediment_clip.shp\"  # Update with your file\n",
        "gdf = gpd.read_file(input_shapefile)\n",
        "\n",
        "# Reproject to EPSG:32643 (UTM zone 43N)\n",
        "if gdf.crs.to_epsg() != 32643:\n",
        "    gdf = gdf.to_crs(epsg=32643)\n",
        "\n",
        "# View columns to confirm\n",
        "print(gdf.columns)\n"
      ],
      "metadata": {
        "colab": {
          "base_uri": "https://localhost:8080/"
        },
        "id": "b8gmRNsgfQUa",
        "outputId": "786a81cd-307e-4d6d-e9bc-8810d992f407"
      },
      "execution_count": null,
      "outputs": [
        {
          "output_type": "stream",
          "name": "stdout",
          "text": [
            "Index(['gid', 'objectid', 'sampleno', 'X', 'Y', 'Si02__', 'Al2O3__', 'Fe2O3__',\n",
            "       'TiO2__', 'CaO__', 'MgO__', 'MnO__', 'Na2O__', 'K2O__', 'P2O5__', 'LOI',\n",
            "       'Ba_ppm', 'Ga_ppm', 'Sc_ppm', 'V_ppm', 'Th_ppm', 'Pb_ppm', 'Ni_ppm',\n",
            "       'Co_ppm', 'Rb_ppm', 'Sr_ppm', 'Y_ppm', 'Zr_ppm', 'Nb_ppm', 'Cr_ppm',\n",
            "       'Cu_ppm', 'Zn_ppm', 'Au_ppb', 'Li_ppm', 'Cs_ppm', 'As_ppm', 'Sb_ppm',\n",
            "       'Bi_ppm', 'Se_ppm', 'Ag_ppm', 'Cd_ppm', 'Hg_ppb', 'Be_ppm', 'Ge_ppm',\n",
            "       'Mo_ppm', 'Sn_ppm', 'La_ppb', 'Ce_ppb', 'Pr_ppb', 'Nd_ppb', 'Sm_ppb',\n",
            "       'Eu_ppb', 'Tb_ppb', 'Gd_ppb', 'Dy_ppb', 'Ho_ppb', 'Er_ppb', 'Tm_ppb',\n",
            "       'Yb_ppb', 'Lu_ppb', 'Hf_ppm', 'Ta_ppm', 'W_ppm', 'U_ppm', 'Pt_ppb',\n",
            "       'Pd_ppb', 'In_ppm', 'F_ppm', 'Te_ppm', 'Tl_ppm', 'geometry'],\n",
            "      dtype='object')\n"
          ]
        }
      ]
    },
    {
      "cell_type": "code",
      "source": [
        "from sklearn.preprocessing import StandardScaler\n",
        "from sklearn.decomposition import PCA\n",
        "import numpy as np\n",
        "\n",
        "# Select geochemical columns\n",
        "columns = ['Ni_ppm', 'Cu_ppm', 'Cr_ppm', 'MgO__', 'Fe2O3__', 'Zr_ppm']\n",
        "df_clean = gdf[columns].dropna()\n",
        "scaler = StandardScaler()\n",
        "X_scaled = scaler.fit_transform(df_clean)\n",
        "\n",
        "# Perform PCA\n",
        "pca = PCA(n_components=2)\n",
        "pca_result = pca.fit_transform(X_scaled)\n",
        "\n",
        "# Store PCA scores\n",
        "gdf.loc[df_clean.index, 'PCA1'] = pca_result[:, 0]\n",
        "gdf.loc[df_clean.index, 'PCA2'] = pca_result[:, 1]\n",
        "\n",
        "# Coordinates for interpolation\n",
        "coords = np.array([(pt.x, pt.y) for pt in gdf.loc[df_clean.index].geometry])\n",
        "values = gdf.loc[df_clean.index, 'PCA1'].values\n"
      ],
      "metadata": {
        "id": "_cHfWIiUhK6B"
      },
      "execution_count": null,
      "outputs": []
    },
    {
      "cell_type": "code",
      "source": [
        "from scipy.spatial import cKDTree\n",
        "\n",
        "def idw_kdtree(coords, values, xi, yi, power=2, k=12):\n",
        "    grid_x, grid_y = np.meshgrid(xi, yi)\n",
        "    grid_points = np.column_stack((grid_x.ravel(), grid_y.ravel()))\n",
        "\n",
        "    tree = cKDTree(coords)\n",
        "    dists, idxs = tree.query(grid_points, k=k)\n",
        "\n",
        "    dists[dists == 0] = 1e-10  # Avoid division by zero\n",
        "    weights = 1 / dists**power\n",
        "    z = np.sum(weights * values[idxs], axis=1) / np.sum(weights, axis=1)\n",
        "\n",
        "    return z.reshape(grid_x.shape), grid_x, grid_y\n"
      ],
      "metadata": {
        "id": "NKulYghwhOrf"
      },
      "execution_count": null,
      "outputs": []
    },
    {
      "cell_type": "code",
      "source": [
        "import rasterio\n",
        "from rasterio.transform import from_origin\n",
        "\n",
        "# Define 30m grid\n",
        "res = 30\n",
        "minx, miny, maxx, maxy = gdf.total_bounds\n",
        "xi = np.arange(minx, maxx, res)\n",
        "yi = np.arange(maxy, miny, -res)  # y in descending order for raster\n",
        "\n",
        "# Run IDW interpolation\n",
        "idw_grid, grid_x, grid_y = idw_kdtree(coords, values, xi, yi)\n",
        "\n",
        "# Save to GeoTIFF\n",
        "transform = from_origin(minx, maxy, res, res)\n",
        "with rasterio.open(\n",
        "    \"PCA1_IDW_30m.tif\", \"w\",\n",
        "    driver=\"GTiff\",\n",
        "    height=idw_grid.shape[0],\n",
        "    width=idw_grid.shape[1],\n",
        "    count=1,\n",
        "    dtype=idw_grid.dtype,\n",
        "    crs=\"EPSG:32643\",\n",
        "    transform=transform\n",
        ") as dst:\n",
        "    dst.write(idw_grid, 1)\n"
      ],
      "metadata": {
        "id": "icDYf1oNhRX_"
      },
      "execution_count": null,
      "outputs": []
    },
    {
      "cell_type": "code",
      "source": [
        "from pyproj import Transformer\n",
        "\n",
        "# Transform to decimal degrees (EPSG:4326)\n",
        "transformer = Transformer.from_crs(\"EPSG:32643\", \"EPSG:4326\", always_xy=True)\n",
        "gdf[\"Longitude\"], gdf[\"Latitude\"] = transformer.transform(gdf.geometry.x.values, gdf.geometry.y.values)\n",
        "\n",
        "# Save CSV\n",
        "gdf[['Longitude', 'Latitude', 'PCA1', 'PCA2']].dropna().to_csv(\"PCA_scores_with_latlon.csv\", index=False)\n"
      ],
      "metadata": {
        "id": "opqXQUAihojg"
      },
      "execution_count": null,
      "outputs": []
    }
  ]
}
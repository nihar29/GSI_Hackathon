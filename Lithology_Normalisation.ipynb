{
  "nbformat": 4,
  "nbformat_minor": 0,
  "metadata": {
    "colab": {
      "provenance": []
    },
    "kernelspec": {
      "name": "python3",
      "display_name": "Python 3"
    },
    "language_info": {
      "name": "python"
    }
  },
  "cells": [
    {
      "cell_type": "code",
      "execution_count": null,
      "metadata": {
        "colab": {
          "base_uri": "https://localhost:8080/"
        },
        "id": "8OIAZj1Dq19y",
        "outputId": "c211f3c0-e444-42b9-8742-4990a96b022c"
      },
      "outputs": [
        {
          "output_type": "stream",
          "name": "stdout",
          "text": [
            "Collecting rasterio\n",
            "  Downloading rasterio-1.4.3-cp311-cp311-manylinux_2_17_x86_64.manylinux2014_x86_64.whl.metadata (9.1 kB)\n",
            "Collecting affine (from rasterio)\n",
            "  Downloading affine-2.4.0-py3-none-any.whl.metadata (4.0 kB)\n",
            "Requirement already satisfied: attrs in /usr/local/lib/python3.11/dist-packages (from rasterio) (25.3.0)\n",
            "Requirement already satisfied: certifi in /usr/local/lib/python3.11/dist-packages (from rasterio) (2025.4.26)\n",
            "Requirement already satisfied: click>=4.0 in /usr/local/lib/python3.11/dist-packages (from rasterio) (8.1.8)\n",
            "Collecting cligj>=0.5 (from rasterio)\n",
            "  Downloading cligj-0.7.2-py3-none-any.whl.metadata (5.0 kB)\n",
            "Requirement already satisfied: numpy>=1.24 in /usr/local/lib/python3.11/dist-packages (from rasterio) (2.0.2)\n",
            "Collecting click-plugins (from rasterio)\n",
            "  Downloading click_plugins-1.1.1-py2.py3-none-any.whl.metadata (6.4 kB)\n",
            "Requirement already satisfied: pyparsing in /usr/local/lib/python3.11/dist-packages (from rasterio) (3.2.3)\n",
            "Downloading rasterio-1.4.3-cp311-cp311-manylinux_2_17_x86_64.manylinux2014_x86_64.whl (22.2 MB)\n",
            "\u001b[2K   \u001b[90m━━━━━━━━━━━━━━━━━━━━━━━━━━━━━━━━━━━━━━━━\u001b[0m \u001b[32m22.2/22.2 MB\u001b[0m \u001b[31m89.5 MB/s\u001b[0m eta \u001b[36m0:00:00\u001b[0m\n",
            "\u001b[?25hDownloading cligj-0.7.2-py3-none-any.whl (7.1 kB)\n",
            "Downloading affine-2.4.0-py3-none-any.whl (15 kB)\n",
            "Downloading click_plugins-1.1.1-py2.py3-none-any.whl (7.5 kB)\n",
            "Installing collected packages: cligj, click-plugins, affine, rasterio\n",
            "Successfully installed affine-2.4.0 click-plugins-1.1.1 cligj-0.7.2 rasterio-1.4.3\n"
          ]
        }
      ],
      "source": [
        "pip install rasterio"
      ]
    },
    {
      "cell_type": "code",
      "source": [
        "import geopandas as gpd\n",
        "import numpy as np\n",
        "from sklearn.preprocessing import LabelEncoder, MinMaxScaler\n",
        "import rasterio\n",
        "from rasterio.transform import from_origin\n",
        "from rasterio.features import rasterize\n",
        "\n",
        "# ----- Step 1: Load Shapefile -----\n",
        "shapefile_path = \"/content/sed/Lithology.shp\"  # Update path\n",
        "gdf = gpd.read_file(shapefile_path)\n",
        "\n",
        "# ----- Step 2: Reproject to UTM (meters) -----\n",
        "gdf = gdf.to_crs(epsg=32643)  # Example: UTM zone 43N (adjust based on your area)\n",
        "\n",
        "# ----- Step 3: Encode Lithology Column -----\n",
        "label_encoder = LabelEncoder()\n",
        "gdf[\"litho_encoded\"] = label_encoder.fit_transform(gdf[\"lithologic\"])\n",
        "scaler = MinMaxScaler()\n",
        "gdf[\"litho_norm\"] = scaler.fit_transform(gdf[[\"litho_encoded\"]])\n",
        "\n",
        "# ----- Step 4: Create 30m Grid -----\n",
        "xmin, ymin, xmax, ymax = gdf.total_bounds\n",
        "res = 30  # 30 meters\n",
        "width = int((xmax - xmin) / res)\n",
        "height = int((ymax - ymin) / res)\n",
        "transform = from_origin(xmin, ymax, res, res)\n",
        "\n",
        "# ----- Step 5: Rasterize Lithology -----\n",
        "shapes = ((geom, value) for geom, value in zip(gdf.geometry, gdf[\"litho_norm\"]))\n",
        "raster = rasterize(\n",
        "    shapes=shapes,\n",
        "    out_shape=(height, width),\n",
        "    transform=transform,\n",
        "    fill=np.nan,\n",
        "    dtype='float32'\n",
        ")\n",
        "\n",
        "# ----- Step 6: Save GeoTIFF -----\n",
        "output_tif = \"lithology_30m_normalized.tif\"\n",
        "with rasterio.open(\n",
        "    output_tif,\n",
        "    'w',\n",
        "    driver='GTiff',\n",
        "    height=height,\n",
        "    width=width,\n",
        "    count=1,\n",
        "    dtype='float32',\n",
        "    crs=gdf.crs,\n",
        "    transform=transform,\n",
        "    nodata=np.nan\n",
        ") as dst:\n",
        "    dst.write(raster, 1)\n",
        "\n",
        "print(\"Saved 30m lithology raster:\", output_tif)\n",
        "print(\"Classes mapped:\", list(label_encoder.classes_))\n"
      ],
      "metadata": {
        "colab": {
          "base_uri": "https://localhost:8080/"
        },
        "id": "CMwxrghcrD9O",
        "outputId": "65709eca-ebbf-4cc3-d0c9-7b08fb65cf4a"
      },
      "execution_count": null,
      "outputs": [
        {
          "output_type": "stream",
          "name": "stdout",
          "text": [
            "Saved 30m lithology raster: lithology_30m_normalized.tif\n",
            "Classes mapped: ['Agglomerate', 'Amphibolite', 'Argillite', 'Banded Ferruginous Chert', 'Banded Iron Formation', 'Banded Magnetite Quartzite', 'Banded ferruginous quartzite', 'Chlorite schist', 'Conglomerate', 'Crystalline limestone', 'Diorite', 'Dolerite', 'Dolerite/Gabbro', 'Dolomite', 'Dolomitic limestone', 'Fuchsite quartzite', 'Gabbro', 'Granite', 'Granite gneiss', 'Granitoid', 'Graywacke', 'Grey granite', 'Limestone', 'Manganiferous chert', 'Manganiferous phyllite', 'Meta basalt', 'Meta gabbro', 'Meta rhyolite', 'Meta ultramafite', 'Migmatite gneiss', 'Mylonitised granite', 'Mylonitised granite gneiss', 'Pegmatite', 'Phyllite with bands of dolomite', 'Quartz', 'Quartz vein', 'Quartz-chlorite schist', 'Quartz-kyanite schist', 'Quartzite']\n"
          ]
        }
      ]
    }
  ]
}
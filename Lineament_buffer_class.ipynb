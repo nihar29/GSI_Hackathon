{
  "nbformat": 4,
  "nbformat_minor": 0,
  "metadata": {
    "colab": {
      "provenance": []
    },
    "kernelspec": {
      "name": "python3",
      "display_name": "Python 3"
    },
    "language_info": {
      "name": "python"
    }
  },
  "cells": [
    {
      "cell_type": "code",
      "execution_count": null,
      "metadata": {
        "colab": {
          "base_uri": "https://localhost:8080/"
        },
        "id": "A4GbIYxZDA_t",
        "outputId": "b8d6ae90-59ce-46bd-b500-c6453df60af9"
      },
      "outputs": [
        {
          "output_type": "stream",
          "name": "stdout",
          "text": [
            "Collecting rasterio\n",
            "  Downloading rasterio-1.4.3-cp311-cp311-manylinux_2_17_x86_64.manylinux2014_x86_64.whl.metadata (9.1 kB)\n",
            "Collecting affine (from rasterio)\n",
            "  Downloading affine-2.4.0-py3-none-any.whl.metadata (4.0 kB)\n",
            "Requirement already satisfied: attrs in /usr/local/lib/python3.11/dist-packages (from rasterio) (25.3.0)\n",
            "Requirement already satisfied: certifi in /usr/local/lib/python3.11/dist-packages (from rasterio) (2025.4.26)\n",
            "Requirement already satisfied: click>=4.0 in /usr/local/lib/python3.11/dist-packages (from rasterio) (8.1.8)\n",
            "Collecting cligj>=0.5 (from rasterio)\n",
            "  Downloading cligj-0.7.2-py3-none-any.whl.metadata (5.0 kB)\n",
            "Requirement already satisfied: numpy>=1.24 in /usr/local/lib/python3.11/dist-packages (from rasterio) (2.0.2)\n",
            "Collecting click-plugins (from rasterio)\n",
            "  Downloading click_plugins-1.1.1-py2.py3-none-any.whl.metadata (6.4 kB)\n",
            "Requirement already satisfied: pyparsing in /usr/local/lib/python3.11/dist-packages (from rasterio) (3.2.3)\n",
            "Downloading rasterio-1.4.3-cp311-cp311-manylinux_2_17_x86_64.manylinux2014_x86_64.whl (22.2 MB)\n",
            "\u001b[2K   \u001b[90m━━━━━━━━━━━━━━━━━━━━━━━━━━━━━━━━━━━━━━━━\u001b[0m \u001b[32m22.2/22.2 MB\u001b[0m \u001b[31m65.8 MB/s\u001b[0m eta \u001b[36m0:00:00\u001b[0m\n",
            "\u001b[?25hDownloading cligj-0.7.2-py3-none-any.whl (7.1 kB)\n",
            "Downloading affine-2.4.0-py3-none-any.whl (15 kB)\n",
            "Downloading click_plugins-1.1.1-py2.py3-none-any.whl (7.5 kB)\n",
            "Installing collected packages: cligj, click-plugins, affine, rasterio\n",
            "Successfully installed affine-2.4.0 click-plugins-1.1.1 cligj-0.7.2 rasterio-1.4.3\n"
          ]
        }
      ],
      "source": [
        "pip install rasterio"
      ]
    },
    {
      "cell_type": "code",
      "source": [
        "import os\n",
        "import geopandas as gpd\n",
        "import numpy as np\n",
        "from shapely.geometry import Point, box\n",
        "import rasterio\n",
        "from rasterio.transform import from_origin\n",
        "from rasterio.features import rasterize\n",
        "import pandas as pd\n",
        "\n",
        "# ----- Configuration -----\n",
        "lineament_path = r\"/content/lineament/Lineament_tectonics.shp\"  # Update path\n",
        "output_tif = \"lineament_decay_buffer.tif\"\n",
        "\n",
        "# Set bounding box in Lat/Lon\n",
        "xmin, ymin = 75.99999, 13.75\n",
        "xmax, ymax = 76.75, 14.5\n",
        "\n",
        "# ~30m resolution in degrees\n",
        "res_deg = 0.0002695\n",
        "width = int((xmax - xmin) / res_deg)\n",
        "height = int((ymax - ymin) / res_deg)\n",
        "\n",
        "# ----- Load Lineament Shapefile -----\n",
        "gdf = gpd.read_file(lineament_path).to_crs(\"EPSG:4326\")\n",
        "\n",
        "# ----- Generate 2D Grid -----\n",
        "x_coords = np.linspace(xmin + res_deg / 2, xmax - res_deg / 2, width)\n",
        "y_coords = np.linspace(ymax - res_deg / 2, ymin + res_deg / 2, height)\n",
        "xx, yy = np.meshgrid(x_coords, y_coords)\n",
        "pixel_points = np.vstack([xx.ravel(), yy.ravel()]).T\n",
        "\n",
        "# ----- Compute Minimum Distance to Any Lineament -----\n",
        "from shapely.geometry import Point\n",
        "min_distances = np.full(pixel_points.shape[0], np.inf)\n",
        "\n",
        "for geom in gdf.geometry:\n",
        "    dists = np.array([geom.distance(Point(xy)) for xy in pixel_points])\n",
        "    min_distances = np.minimum(min_distances, dists)\n",
        "\n",
        "# ----- Convert Distance to Rank -----\n",
        "# Distances in degrees: 1km ≈ 0.009°, 5km ≈ 0.045°\n",
        "ranks = np.where(\n",
        "    min_distances <= 0.009, 1.0,                         # <=1 km\n",
        "    np.where(min_distances <= 0.045,\n",
        "             1 - (min_distances - 0.009) / (0.045 - 0.009),  # 1 to 5 km: linear decay\n",
        "             0.0)                                         # >5 km\n",
        ")\n",
        "\n",
        "# Reshape to raster\n",
        "rank_raster = ranks.reshape((height, width))\n",
        "rank_raster[rank_raster == 0.0] = np.nan  # Set NoData outside 5km\n",
        "\n",
        "# ----- Save Raster -----\n",
        "transform = from_origin(xmin, ymax, res_deg, res_deg)\n",
        "\n",
        "with rasterio.open(\n",
        "    output_tif,\n",
        "    'w',\n",
        "    driver='GTiff',\n",
        "    height=height,\n",
        "    width=width,\n",
        "    count=1,\n",
        "    dtype='float32',\n",
        "    crs='EPSG:4326',\n",
        "    transform=transform,\n",
        "    nodata=np.nan\n",
        ") as dst:\n",
        "    dst.write(rank_raster.astype(np.float32), 1)\n",
        "\n",
        "print(f\"Saved lineament proximity decay raster to: {output_tif}\")\n"
      ],
      "metadata": {
        "colab": {
          "base_uri": "https://localhost:8080/"
        },
        "id": "ZIwin6LXDTFr",
        "outputId": "4c06f1a2-a6d5-400f-9dcc-7829c1aa4397"
      },
      "execution_count": null,
      "outputs": [
        {
          "output_type": "stream",
          "name": "stdout",
          "text": [
            "Saved lineament proximity decay raster to: lineament_decay_buffer.tif\n"
          ]
        }
      ]
    }
  ]
}
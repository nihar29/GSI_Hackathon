{
  "nbformat": 4,
  "nbformat_minor": 0,
  "metadata": {
    "colab": {
      "provenance": []
    },
    "kernelspec": {
      "name": "python3",
      "display_name": "Python 3"
    },
    "language_info": {
      "name": "python"
    }
  },
  "cells": [
    {
      "cell_type": "code",
      "execution_count": null,
      "metadata": {
        "colab": {
          "base_uri": "https://localhost:8080/"
        },
        "id": "VzHakaH9tEMm",
        "outputId": "c7080bc9-e6e6-4de2-9668-cadae54ca28e"
      },
      "outputs": [
        {
          "output_type": "stream",
          "name": "stdout",
          "text": [
            "Requirement already satisfied: geopandas in /usr/local/lib/python3.11/dist-packages (1.0.1)\n",
            "Collecting rasterio\n",
            "  Downloading rasterio-1.4.3-cp311-cp311-manylinux_2_17_x86_64.manylinux2014_x86_64.whl.metadata (9.1 kB)\n",
            "Requirement already satisfied: numpy in /usr/local/lib/python3.11/dist-packages (2.0.2)\n",
            "Requirement already satisfied: pyogrio>=0.7.2 in /usr/local/lib/python3.11/dist-packages (from geopandas) (0.10.0)\n",
            "Requirement already satisfied: packaging in /usr/local/lib/python3.11/dist-packages (from geopandas) (24.2)\n",
            "Requirement already satisfied: pandas>=1.4.0 in /usr/local/lib/python3.11/dist-packages (from geopandas) (2.2.2)\n",
            "Requirement already satisfied: pyproj>=3.3.0 in /usr/local/lib/python3.11/dist-packages (from geopandas) (3.7.1)\n",
            "Requirement already satisfied: shapely>=2.0.0 in /usr/local/lib/python3.11/dist-packages (from geopandas) (2.1.0)\n",
            "Collecting affine (from rasterio)\n",
            "  Downloading affine-2.4.0-py3-none-any.whl.metadata (4.0 kB)\n",
            "Requirement already satisfied: attrs in /usr/local/lib/python3.11/dist-packages (from rasterio) (25.3.0)\n",
            "Requirement already satisfied: certifi in /usr/local/lib/python3.11/dist-packages (from rasterio) (2025.4.26)\n",
            "Requirement already satisfied: click>=4.0 in /usr/local/lib/python3.11/dist-packages (from rasterio) (8.1.8)\n",
            "Collecting cligj>=0.5 (from rasterio)\n",
            "  Downloading cligj-0.7.2-py3-none-any.whl.metadata (5.0 kB)\n",
            "Collecting click-plugins (from rasterio)\n",
            "  Downloading click_plugins-1.1.1-py2.py3-none-any.whl.metadata (6.4 kB)\n",
            "Requirement already satisfied: pyparsing in /usr/local/lib/python3.11/dist-packages (from rasterio) (3.2.3)\n",
            "Requirement already satisfied: python-dateutil>=2.8.2 in /usr/local/lib/python3.11/dist-packages (from pandas>=1.4.0->geopandas) (2.9.0.post0)\n",
            "Requirement already satisfied: pytz>=2020.1 in /usr/local/lib/python3.11/dist-packages (from pandas>=1.4.0->geopandas) (2025.2)\n",
            "Requirement already satisfied: tzdata>=2022.7 in /usr/local/lib/python3.11/dist-packages (from pandas>=1.4.0->geopandas) (2025.2)\n",
            "Requirement already satisfied: six>=1.5 in /usr/local/lib/python3.11/dist-packages (from python-dateutil>=2.8.2->pandas>=1.4.0->geopandas) (1.17.0)\n",
            "Downloading rasterio-1.4.3-cp311-cp311-manylinux_2_17_x86_64.manylinux2014_x86_64.whl (22.2 MB)\n",
            "\u001b[2K   \u001b[90m━━━━━━━━━━━━━━━━━━━━━━━━━━━━━━━━━━━━━━━━\u001b[0m \u001b[32m22.2/22.2 MB\u001b[0m \u001b[31m51.3 MB/s\u001b[0m eta \u001b[36m0:00:00\u001b[0m\n",
            "\u001b[?25hDownloading cligj-0.7.2-py3-none-any.whl (7.1 kB)\n",
            "Downloading affine-2.4.0-py3-none-any.whl (15 kB)\n",
            "Downloading click_plugins-1.1.1-py2.py3-none-any.whl (7.5 kB)\n",
            "Installing collected packages: cligj, click-plugins, affine, rasterio\n",
            "Successfully installed affine-2.4.0 click-plugins-1.1.1 cligj-0.7.2 rasterio-1.4.3\n"
          ]
        }
      ],
      "source": [
        "pip install geopandas rasterio numpy"
      ]
    },
    {
      "cell_type": "code",
      "source": [
        "import geopandas as gpd\n",
        "import rasterio\n",
        "from rasterio.features import rasterize\n",
        "import numpy as np\n",
        "\n",
        "# File paths\n",
        "mineralized_path = \"/content/Mineralisation_points_buffer_500m.shp\"\n",
        "non_mineralized_path = \"/content/Non_Mineralisation_points_buffer_500m.shp\"\n",
        "reference_raster_path = \"/content/ferric_clip_normalized_30m.tif\"  # Reference raster for resolution and CRS\n",
        "output_label_tif = \"cnn_labels_merged.tif\"\n",
        "\n",
        "# Load reference raster to get transform, shape, and CRS\n",
        "with rasterio.open(reference_raster_path) as ref:\n",
        "    raster_crs = ref.crs\n",
        "    raster_transform = ref.transform\n",
        "    raster_shape = (ref.height, ref.width)\n",
        "    profile = ref.profile\n",
        "\n",
        "# Read shapefiles and reproject to target CRS (EPSG:32643)\n",
        "min_gdf = gpd.read_file(mineralized_path).to_crs(raster_crs)\n",
        "non_gdf = gpd.read_file(non_mineralized_path).to_crs(raster_crs)\n",
        "\n",
        "# Prepare shapes with corresponding labels\n",
        "mineralized_shapes = [(geom, 1.0) for geom in min_gdf.geometry]\n",
        "non_mineralized_shapes = [(geom, 0.0) for geom in non_gdf.geometry]\n",
        "\n",
        "# Combine shapes from both shapefiles into a single list\n",
        "combined_shapes = mineralized_shapes + non_mineralized_shapes\n",
        "\n",
        "# Rasterize combined shapes into a label array\n",
        "label_array = rasterize(\n",
        "    shapes=combined_shapes,\n",
        "    out_shape=raster_shape,\n",
        "    transform=raster_transform,\n",
        "    fill=np.nan,  # NaN for NoData value\n",
        "    dtype='float32'\n",
        ")\n",
        "\n",
        "# Update raster profile for output\n",
        "profile.update({\n",
        "    \"dtype\": \"float32\",\n",
        "    \"count\": 1,\n",
        "    \"nodata\": np.nan,  # NaN as NoData value\n",
        "    \"compress\": \"lzw\"\n",
        "})\n",
        "\n",
        "# Save the label raster as GeoTIFF\n",
        "with rasterio.open(output_label_tif, \"w\", **profile) as dst:\n",
        "    dst.write(label_array, 1)\n",
        "\n",
        "print(f\"✅ Saved merged label raster to: {output_label_tif}\")\n"
      ],
      "metadata": {
        "colab": {
          "base_uri": "https://localhost:8080/"
        },
        "id": "wBGrZlIktFuR",
        "outputId": "44061ab7-8f69-4ce7-914b-095de3acdae5"
      },
      "execution_count": null,
      "outputs": [
        {
          "output_type": "stream",
          "name": "stdout",
          "text": [
            "✅ Saved merged label raster to: cnn_labels_merged.tif\n"
          ]
        }
      ]
    }
  ]
}
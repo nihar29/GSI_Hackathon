{
  "nbformat": 4,
  "nbformat_minor": 0,
  "metadata": {
    "colab": {
      "provenance": []
    },
    "kernelspec": {
      "name": "python3",
      "display_name": "Python 3"
    },
    "language_info": {
      "name": "python"
    }
  },
  "cells": [
    {
      "cell_type": "code",
      "execution_count": null,
      "metadata": {
        "colab": {
          "base_uri": "https://localhost:8080/"
        },
        "id": "nvX4I5ZAYFm8",
        "outputId": "cd87c7f6-9aa7-4bd4-9afe-91408c0f55b9"
      },
      "outputs": [
        {
          "output_type": "stream",
          "name": "stdout",
          "text": [
            "Collecting dbfread\n",
            "  Downloading dbfread-2.0.7-py2.py3-none-any.whl.metadata (3.3 kB)\n",
            "Downloading dbfread-2.0.7-py2.py3-none-any.whl (20 kB)\n",
            "Installing collected packages: dbfread\n",
            "Successfully installed dbfread-2.0.7\n"
          ]
        }
      ],
      "source": [
        "pip install dbfread"
      ]
    },
    {
      "cell_type": "code",
      "source": [
        "pip install rasterio"
      ],
      "metadata": {
        "colab": {
          "base_uri": "https://localhost:8080/"
        },
        "id": "tpwQpcqAaru0",
        "outputId": "0b97ab35-53ec-495e-fd46-7a1ae986ebbf"
      },
      "execution_count": null,
      "outputs": [
        {
          "output_type": "stream",
          "name": "stdout",
          "text": [
            "Collecting rasterio\n",
            "  Downloading rasterio-1.4.3-cp311-cp311-manylinux_2_17_x86_64.manylinux2014_x86_64.whl.metadata (9.1 kB)\n",
            "Collecting affine (from rasterio)\n",
            "  Downloading affine-2.4.0-py3-none-any.whl.metadata (4.0 kB)\n",
            "Requirement already satisfied: attrs in /usr/local/lib/python3.11/dist-packages (from rasterio) (25.3.0)\n",
            "Requirement already satisfied: certifi in /usr/local/lib/python3.11/dist-packages (from rasterio) (2025.4.26)\n",
            "Requirement already satisfied: click>=4.0 in /usr/local/lib/python3.11/dist-packages (from rasterio) (8.1.8)\n",
            "Collecting cligj>=0.5 (from rasterio)\n",
            "  Downloading cligj-0.7.2-py3-none-any.whl.metadata (5.0 kB)\n",
            "Requirement already satisfied: numpy>=1.24 in /usr/local/lib/python3.11/dist-packages (from rasterio) (2.0.2)\n",
            "Collecting click-plugins (from rasterio)\n",
            "  Downloading click_plugins-1.1.1-py2.py3-none-any.whl.metadata (6.4 kB)\n",
            "Requirement already satisfied: pyparsing in /usr/local/lib/python3.11/dist-packages (from rasterio) (3.2.3)\n",
            "Downloading rasterio-1.4.3-cp311-cp311-manylinux_2_17_x86_64.manylinux2014_x86_64.whl (22.2 MB)\n",
            "\u001b[2K   \u001b[90m━━━━━━━━━━━━━━━━━━━━━━━━━━━━━━━━━━━━━━━━\u001b[0m \u001b[32m22.2/22.2 MB\u001b[0m \u001b[31m82.8 MB/s\u001b[0m eta \u001b[36m0:00:00\u001b[0m\n",
            "\u001b[?25hDownloading cligj-0.7.2-py3-none-any.whl (7.1 kB)\n",
            "Downloading affine-2.4.0-py3-none-any.whl (15 kB)\n",
            "Downloading click_plugins-1.1.1-py2.py3-none-any.whl (7.5 kB)\n",
            "Installing collected packages: cligj, click-plugins, affine, rasterio\n",
            "Successfully installed affine-2.4.0 click-plugins-1.1.1 cligj-0.7.2 rasterio-1.4.3\n"
          ]
        }
      ]
    },
    {
      "cell_type": "code",
      "source": [
        "import os\n",
        "import geopandas as gpd\n",
        "import numpy as np\n",
        "import pandas as pd\n",
        "from shapely.geometry import Point\n",
        "import matplotlib.pyplot as plt\n",
        "import rasterio\n",
        "from rasterio.transform import from_origin\n",
        "\n",
        "# Step 1: Define path\n",
        "base_path = r\"/content/Fault\"\n",
        "shapefile_path = os.path.join(base_path, \"Fault.shp\")\n",
        "\n",
        "# Step 2: Load shapefile\n",
        "gdf = gpd.read_file(shapefile_path)\n",
        "print(\"Original CRS:\", gdf.crs)\n",
        "\n",
        "# Step 3: Project to UTM for 30m resolution (automatic zone)\n",
        "gdf_utm = gdf.to_crs(gdf.estimate_utm_crs())\n",
        "print(\"Projected CRS:\", gdf_utm.crs)\n",
        "\n",
        "# Step 4: Get bounds and create a 30m grid\n",
        "xmin, ymin, xmax, ymax = gdf_utm.total_bounds\n",
        "resolution = 30  # 30 meters\n",
        "\n",
        "width = int((xmax - xmin) / resolution)\n",
        "height = int((ymax - ymin) / resolution)\n",
        "\n",
        "x_coords = np.linspace(xmin + resolution / 2, xmax - resolution / 2, width)\n",
        "y_coords = np.linspace(ymax - resolution / 2, ymin + resolution / 2, height)\n",
        "xx, yy = np.meshgrid(x_coords, y_coords)\n",
        "\n",
        "pixel_points = np.vstack([xx.ravel(), yy.ravel()]).T\n",
        "\n",
        "# Step 5: Calculate distance to each fault line\n",
        "proximity_maps = []\n",
        "\n",
        "for fault in gdf_utm.geometry:\n",
        "    distances = np.array([fault.distance(Point(xy)) for xy in pixel_points])\n",
        "    distance_image = distances.reshape((height, width))\n",
        "    proximity_maps.append(distance_image)\n",
        "\n",
        "# Step 6: Stack maps\n",
        "proximity_stack = np.stack(proximity_maps, axis=0)\n",
        "\n",
        "# Step 7: Export first proximity map as GeoTIFF\n",
        "output_tif = \"fault_proximity_30m.tif\"\n",
        "transform = from_origin(xmin, ymax, resolution, resolution)  # top-left origin\n",
        "\n",
        "with rasterio.open(\n",
        "    output_tif,\n",
        "    'w',\n",
        "    driver='GTiff',\n",
        "    height=height,\n",
        "    width=width,\n",
        "    count=1,\n",
        "    dtype=proximity_stack[0].dtype,\n",
        "    crs=gdf_utm.crs,\n",
        "    transform=transform,\n",
        ") as dst:\n",
        "    dst.write(proximity_stack[0], 1)\n",
        "\n",
        "print(f\"Saved proximity map to: {output_tif}\")\n"
      ],
      "metadata": {
        "colab": {
          "base_uri": "https://localhost:8080/"
        },
        "id": "uwVPqdOkYglj",
        "outputId": "c71abd15-46a8-43b8-bbee-17d06d3a1313"
      },
      "execution_count": null,
      "outputs": [
        {
          "output_type": "stream",
          "name": "stdout",
          "text": [
            "Original CRS: EPSG:32644\n",
            "Projected CRS: EPSG:32643\n",
            "Saved proximity map to: fault_proximity_30m.tif\n"
          ]
        }
      ]
    }
  ]
}